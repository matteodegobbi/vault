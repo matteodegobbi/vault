{
 "cells": [
  {
   "cell_type": "markdown",
   "metadata": {
    "id": "aq7MqgGKBfOq"
   },
   "source": [
    "# MNIST Digit Classification with a Convolutional Neural Network (CNN)\n",
    "*By Carlos Santiago Bañón*\n",
    "\n",
    "**Year:** 2020\n",
    "\n",
    "**Technologies:** Python, NumPy, Matplotlib, TensforFlow, Keras\n",
    "\n",
    "**Discipline(s):** Computer Vision, Deep Learning\n",
    "\n",
    "**Keywords:** `classification`, `cnn`, `computer-vision`, `convolution`, `convolutional-neural-network`, `deep-learning`, `fully-connected`, `max-pooling`, `mnist`, `multi-class-classification`, `neural-network`, `2d-convolution`, `2d-max-pooling`"
   ]
  },
  {
   "cell_type": "markdown",
   "metadata": {
    "id": "HSmvrCh8CqZq"
   },
   "source": [
    "This notebook presents an MNIST digit classifier built with a convolutional neural network (CNN) in TensorFlow and Keras."
   ]
  },
  {
   "cell_type": "markdown",
   "metadata": {
    "id": "Uzlnsvf1DGpk"
   },
   "source": [
    "## 1. Import Statements\n",
    "\n",
    "---\n",
    "\n"
   ]
  },
  {
   "cell_type": "code",
   "execution_count": 559,
   "metadata": {
    "id": "l8DhknOWDIc4"
   },
   "outputs": [],
   "source": [
    "import numpy as np\n",
    "import matplotlib.pyplot as plt\n",
    "\n",
    "\n",
    "import tensorflow as tf"
   ]
  },
  {
   "cell_type": "markdown",
   "metadata": {
    "id": "Yuvx7u4qDQ0p"
   },
   "source": [
    "## 2. Data Preprocessing\n",
    "\n",
    "---\n",
    "\n"
   ]
  },
  {
   "cell_type": "markdown",
   "metadata": {
    "id": "qI70NJ8SN4An"
   },
   "source": [
    "The first step is to preprocess our data. Here, we load the MNIST digit dataset from the Keras datasets library, split it into training and test sets, reshape the matrices, and encode the labels categorically."
   ]
  },
  {
   "cell_type": "code",
   "execution_count": 560,
   "metadata": {
    "id": "IsaUq1mDDVLT"
   },
   "outputs": [],
   "source": [
    "# Load the MNIST dataset.\n",
    "mnist = tf.keras.datasets.mnist\n",
    "train_data, test_data = mnist.load_data()"
   ]
  },
  {
   "cell_type": "code",
   "execution_count": 561,
   "metadata": {
    "id": "nWuEpda6EBMN"
   },
   "outputs": [],
   "source": [
    "# Divide the data into features and labels.\n",
    "train_images, train_labels = train_data\n",
    "\n",
    "test_images, test_labels = test_data"
   ]
  },
  {
   "cell_type": "code",
   "execution_count": 562,
   "metadata": {},
   "outputs": [
    {
     "name": "stdout",
     "output_type": "stream",
     "text": [
      "<class 'numpy.ndarray'>\n"
     ]
    }
   ],
   "source": [
    "p = 0.01\n",
    "chance_del_number = np.random.choice(a=[False, True], size=60000, p=[p, 1-p])  \n",
    "train_images = np.delete(train_images, np.where((train_labels == 8) & chance_del_number)[0], axis=0)\n",
    "train_labels = np.delete(train_labels, np.where((train_labels == 8) & chance_del_number), axis=0)\n",
    "print(type(train_images))\n",
    "permutation = np.random.permutation(len(train_images))\n",
    "train_images = train_images[permutation]\n",
    "train_labels = train_labels[permutation]"
   ]
  },
  {
   "cell_type": "code",
   "execution_count": 563,
   "metadata": {},
   "outputs": [
    {
     "name": "stdout",
     "output_type": "stream",
     "text": [
      "(54209, 28, 28)\n",
      "(54209,)\n",
      "(array([0, 1, 2, 3, 4, 5, 6, 7, 8, 9], dtype=uint8), array([5923, 6742, 5958, 6131, 5842, 5421, 5918, 6265,   60, 5949],\n",
      "      dtype=int64))\n"
     ]
    }
   ],
   "source": [
    "print(train_images.shape)\n",
    "print(train_labels.shape)\n",
    "print(np.unique(train_labels,return_counts=True))"
   ]
  },
  {
   "cell_type": "markdown",
   "metadata": {},
   "source": [
    "# SET DATASET SIZE"
   ]
  },
  {
   "cell_type": "code",
   "execution_count": 564,
   "metadata": {},
   "outputs": [],
   "source": [
    "DATASET_SIZE=2000\n",
    "train_images = train_images[:DATASET_SIZE]\n",
    "train_labels = train_labels[:DATASET_SIZE]"
   ]
  },
  {
   "cell_type": "code",
   "execution_count": 565,
   "metadata": {
    "id": "wrAabZnyDinP"
   },
   "outputs": [],
   "source": [
    "# Reshape and normalize the images.\n",
    "X_train = train_images.reshape((DATASET_SIZE, 28, 28, 1))\n",
    "X_train = X_train.astype('float32') / 255\n",
    "X_test = test_images.reshape((10000, 28, 28, 1))\n",
    "X_test = X_test.astype('float32') / 255"
   ]
  },
  {
   "cell_type": "code",
   "execution_count": 566,
   "metadata": {
    "id": "iHUWJlyBE1P0"
   },
   "outputs": [],
   "source": [
    "# Reshape the labels and encode them categorically.\n",
    "y_train = tf.keras.utils.to_categorical(train_labels)\n",
    "y_test = tf.keras.utils.to_categorical(test_labels)"
   ]
  },
  {
   "cell_type": "markdown",
   "metadata": {
    "id": "FVEOuuLPOJVH"
   },
   "source": [
    "Further, the following are the shapes of each matrix, as well as a visualization of a random MNIST digit."
   ]
  },
  {
   "cell_type": "code",
   "execution_count": 567,
   "metadata": {
    "colab": {
     "base_uri": "https://localhost:8080/"
    },
    "id": "9PpPi0qpNI_L",
    "outputId": "2428ad46-a10d-4308-fa10-b214594127c6"
   },
   "outputs": [
    {
     "name": "stdout",
     "output_type": "stream",
     "text": [
      "Training Images: (2000, 28, 28, 1)\n",
      "Testing Images: (10000, 28, 28, 1)\n",
      "Training Labels: (2000, 10)\n",
      "Test Labels: (10000, 10)\n"
     ]
    }
   ],
   "source": [
    "# Show the shapes of the data.\n",
    "print(\"Training Images:\", X_train.shape)\n",
    "print(\"Testing Images:\", X_test.shape)\n",
    "print(\"Training Labels:\", y_train.shape)\n",
    "print(\"Test Labels:\", y_test.shape)"
   ]
  },
  {
   "cell_type": "code",
   "execution_count": 568,
   "metadata": {
    "colab": {
     "base_uri": "https://localhost:8080/",
     "height": 265
    },
    "id": "mSKjBaeNNc1m",
    "outputId": "d46bf1c0-d366-4eee-8c21-993286d67f68"
   },
   "outputs": [
    {
     "data": {
      "image/png": "[encoded data removed]",
      "text/plain": [
       "<Figure size 640x480 with 1 Axes>"
      ]
     },
     "metadata": {},
     "output_type": "display_data"
    }
   ],
   "source": [
    "# Show a sample MNIST digit.\n",
    "plt.imshow(train_images[10])\n",
    "plt.show()"
   ]
  },
  {
   "cell_type": "markdown",
   "metadata": {
    "id": "J5ubfhUsFLR8"
   },
   "source": [
    "## 3. Convolutional Neural Network (CNN)\n",
    "\n",
    "---\n",
    "\n"
   ]
  },
  {
   "cell_type": "markdown",
   "metadata": {
    "id": "-gPoq2dRFtrH"
   },
   "source": [
    "### 3.1. Define the Model"
   ]
  },
  {
   "cell_type": "markdown",
   "metadata": {
    "id": "jU5sDVjhOVgF"
   },
   "source": [
    "We then have to define our convolutional neural network."
   ]
  },
  {
   "cell_type": "code",
   "execution_count": 569,
   "metadata": {
    "id": "Ri1rSpp3FSDS"
   },
   "outputs": [],
   "source": [
    "# Define the sequential model.\n",
    "model = tf.keras.models.Sequential()"
   ]
  },
  {
   "cell_type": "code",
   "execution_count": 570,
   "metadata": {
    "id": "5CNJ9gHWFWQv"
   },
   "outputs": [],
   "source": [
    "# Define the convolutional neural network.\n",
    "model.add(tf.keras.layers.Conv2D(32, (3, 3), activation='relu', input_shape=(28, 28, 1)))\n",
    "model.add(tf.keras.layers.MaxPooling2D((2, 2)))\n",
    "model.add(tf.keras.layers.Conv2D(64, (3, 3), activation='relu'))\n",
    "model.add(tf.keras.layers.MaxPooling2D(2, 2))\n",
    "model.add(tf.keras.layers.Conv2D(64, (3, 3), activation='relu'))\n",
    "model.add(tf.keras.layers.Flatten())\n",
    "model.add(tf.keras.layers.Dense(64, activation='relu'))\n",
    "model.add(tf.keras.layers.Dense(10, activation='softmax'))"
   ]
  },
  {
   "cell_type": "code",
   "execution_count": 571,
   "metadata": {
    "colab": {
     "base_uri": "https://localhost:8080/"
    },
    "id": "cdMaLgtqFeV6",
    "outputId": "ef4b44ba-ff64-4f43-f2a2-1e98754f4c2a"
   },
   "outputs": [
    {
     "name": "stdout",
     "output_type": "stream",
     "text": [
      "Model: \"sequential_13\"\n",
      "_________________________________________________________________\n",
      " Layer (type)                Output Shape              Param #   \n",
      "=================================================================\n",
      " conv2d_39 (Conv2D)          (None, 26, 26, 32)        320       \n",
      "                                                                 \n",
      " max_pooling2d_26 (MaxPooli  (None, 13, 13, 32)        0         \n",
      " ng2D)                                                           \n",
      "                                                                 \n",
      " conv2d_40 (Conv2D)          (None, 11, 11, 64)        18496     \n",
      "                                                                 \n",
      " max_pooling2d_27 (MaxPooli  (None, 5, 5, 64)          0         \n",
      " ng2D)                                                           \n",
      "                                                                 \n",
      " conv2d_41 (Conv2D)          (None, 3, 3, 64)          36928     \n",
      "                                                                 \n",
      " flatten_13 (Flatten)        (None, 576)               0         \n",
      "                                                                 \n",
      " dense_26 (Dense)            (None, 64)                36928     \n",
      "                                                                 \n",
      " dense_27 (Dense)            (None, 10)                650       \n",
      "                                                                 \n",
      "=================================================================\n",
      "Total params: 93322 (364.54 KB)\n",
      "Trainable params: 93322 (364.54 KB)\n",
      "Non-trainable params: 0 (0.00 Byte)\n",
      "_________________________________________________________________\n"
     ]
    }
   ],
   "source": [
    "# Show the model.\n",
    "model.summary()"
   ]
  },
  {
   "cell_type": "markdown",
   "metadata": {
    "id": "GYactRmuOhCW"
   },
   "source": [
    "Once our model is defined, we can compile it using the Adam optimizer and the categorical cross-entropy loss function."
   ]
  },
  {
   "cell_type": "code",
   "execution_count": 572,
   "metadata": {
    "id": "57j-R0L4Fmmf"
   },
   "outputs": [],
   "source": [
    "# Compile the model.\n",
    "model.compile(optimizer='adam', loss='categorical_crossentropy', metrics=['accuracy'])"
   ]
  },
  {
   "cell_type": "markdown",
   "metadata": {
    "id": "hRVabAG8F3IL"
   },
   "source": [
    "### 3.2. Train the Model"
   ]
  },
  {
   "cell_type": "markdown",
   "metadata": {
    "id": "0IuRzsr2Osga"
   },
   "source": [
    "We then train the model on 10 epochs, using a batch size of 128."
   ]
  },
  {
   "cell_type": "code",
   "execution_count": 573,
   "metadata": {
    "colab": {
     "base_uri": "https://localhost:8080/"
    },
    "id": "Yl1f9mvZF5Pc",
    "outputId": "5d1869e2-2978-4acd-85f3-6d8c45fcf74f"
   },
   "outputs": [
    {
     "name": "stdout",
     "output_type": "stream",
     "text": [
      "Epoch 1/10\n",
      "16/16 [==============================] - 1s 62ms/step - loss: 1.7970 - accuracy: 0.4965 - val_loss: 1.7768 - val_accuracy: 0.6878\n",
      "Epoch 2/10\n",
      "16/16 [==============================] - 1s 56ms/step - loss: 0.6338 - accuracy: 0.8000 - val_loss: 2.1705 - val_accuracy: 0.7767\n",
      "Epoch 3/10\n",
      "16/16 [==============================] - 1s 56ms/step - loss: 0.4031 - accuracy: 0.8715 - val_loss: 1.8116 - val_accuracy: 0.8005\n",
      "Epoch 4/10\n",
      "16/16 [==============================] - 1s 56ms/step - loss: 0.2882 - accuracy: 0.9100 - val_loss: 1.4490 - val_accuracy: 0.8219\n",
      "Epoch 5/10\n",
      "16/16 [==============================] - 1s 56ms/step - loss: 0.2358 - accuracy: 0.9185 - val_loss: 1.2628 - val_accuracy: 0.8383\n",
      "Epoch 6/10\n",
      "16/16 [==============================] - 1s 56ms/step - loss: 0.2147 - accuracy: 0.9265 - val_loss: 1.0754 - val_accuracy: 0.8464\n",
      "Epoch 7/10\n",
      "16/16 [==============================] - 1s 56ms/step - loss: 0.1723 - accuracy: 0.9450 - val_loss: 1.0601 - val_accuracy: 0.8562\n",
      "Epoch 8/10\n",
      "16/16 [==============================] - 1s 57ms/step - loss: 0.1326 - accuracy: 0.9600 - val_loss: 1.0706 - val_accuracy: 0.8633\n",
      "Epoch 9/10\n",
      "16/16 [==============================] - 1s 56ms/step - loss: 0.1087 - accuracy: 0.9655 - val_loss: 1.0202 - val_accuracy: 0.8664\n",
      "Epoch 10/10\n",
      "16/16 [==============================] - 1s 56ms/step - loss: 0.0890 - accuracy: 0.9715 - val_loss: 0.9722 - val_accuracy: 0.8691\n"
     ]
    }
   ],
   "source": [
    "# Define the parameters.\n",
    "num_epochs = 10\n",
    "batch_size = 128\n",
    "\n",
    "# Train the model.\n",
    "history = model.fit(X_train, \n",
    "                      y_train, \n",
    "                      epochs=num_epochs, \n",
    "                      batch_size=batch_size, \n",
    "                      validation_data=(X_test, y_test))"
   ]
  },
  {
   "cell_type": "markdown",
   "metadata": {
    "id": "WhyG0-sPHOAv"
   },
   "source": [
    "### 3.3. Display the Metrics"
   ]
  },
  {
   "cell_type": "markdown",
   "metadata": {
    "id": "hhr5Aa5yfIsq"
   },
   "source": [
    "Finally, we display the metrics. We begin by displaying the model's accuracy and loss based on the test set."
   ]
  },
  {
   "cell_type": "code",
   "execution_count": 574,
   "metadata": {
    "colab": {
     "base_uri": "https://localhost:8080/"
    },
    "id": "vFoIAPdSYXqh",
    "outputId": "14453be0-edc3-4387-f87b-ba6a6a30201d"
   },
   "outputs": [
    {
     "name": "stdout",
     "output_type": "stream",
     "text": [
      "313/313 [==============================] - 1s 3ms/step - loss: 0.9722 - accuracy: 0.8691\n",
      "Test Accuracy: 0.8690999746322632\n",
      "Test Loss: 0.9721873998641968\n"
     ]
    }
   ],
   "source": [
    "test_loss, test_accuracy = model.evaluate(X_test, y_test)\n",
    "print('Test Accuracy:', test_accuracy)\n",
    "print('Test Loss:', test_loss)"
   ]
  },
  {
   "cell_type": "markdown",
   "metadata": {
    "id": "ol-9qFvyfIsw"
   },
   "source": [
    "Then, we save the metric values for each epoch to plot the loss and accuracy curves for our model."
   ]
  },
  {
   "cell_type": "code",
   "execution_count": 575,
   "metadata": {
    "id": "kjKFh83CfIsw"
   },
   "outputs": [],
   "source": [
    "# Save the metrics.\n",
    "metrics = history.history"
   ]
  },
  {
   "cell_type": "markdown",
   "metadata": {
    "id": "ZztnSHgjZPDN"
   },
   "source": [
    "Finally, once we have our metric history, we can plot the curves."
   ]
  },
  {
   "cell_type": "code",
   "execution_count": 576,
   "metadata": {
    "id": "p56cSX3JfIsz"
   },
   "outputs": [],
   "source": [
    "# Save the loss values.\n",
    "training_loss_list = metrics['loss']\n",
    "test_loss_list = metrics['val_loss']"
   ]
  },
  {
   "cell_type": "code",
   "execution_count": 577,
   "metadata": {
    "colab": {
     "base_uri": "https://localhost:8080/",
     "height": 295
    },
    "id": "HKAZlyOmHV6f",
    "outputId": "6c2c9eaa-22e8-46cd-9689-5f293f45b764"
   },
   "outputs": [
    {
     "data": {
      "image/png": "[encoded data removed]",
      "text/plain": [
       "<Figure size 640x480 with 1 Axes>"
      ]
     },
     "metadata": {},
     "output_type": "display_data"
    }
   ],
   "source": [
    "# Plot the training and test loss.\n",
    "x = np.arange(0, num_epochs, 1)\n",
    "plt.title('Training and Test Loss')\n",
    "plt.xlabel('Epoch')\n",
    "plt.ylabel('Loss')\n",
    "plt.plot(x, training_loss_list, label='Training Loss')\n",
    "plt.plot(x, test_loss_list, label='Test Loss')\n",
    "plt.legend()\n",
    "plt.show()"
   ]
  },
  {
   "cell_type": "code",
   "execution_count": 578,
   "metadata": {
    "id": "RwzIUzuuI0ZP"
   },
   "outputs": [],
   "source": [
    "train_accuracy_list = metrics['accuracy']\n",
    "test_accuracy_list = metrics['val_accuracy']"
   ]
  },
  {
   "cell_type": "code",
   "execution_count": 579,
   "metadata": {
    "colab": {
     "base_uri": "https://localhost:8080/",
     "height": 295
    },
    "id": "kHj-j2HpI2Lb",
    "outputId": "2b1e8b66-5244-4c46-a375-f65d865476cf"
   },
   "outputs": [
    {
     "data": {
      "image/png": "[encoded data removed]",
      "text/plain": [
       "<Figure size 640x480 with 1 Axes>"
      ]
     },
     "metadata": {},
     "output_type": "display_data"
    }
   ],
   "source": [
    "plt.title('Training and Test Accuracy')\n",
    "plt.xlabel('Epoch')\n",
    "plt.ylabel('Accuracy')\n",
    "plt.plot(x, train_accuracy_list, label='Training Accuracy')\n",
    "plt.plot(x, test_accuracy_list, label='Test Accuracy')\n",
    "plt.legend()\n",
    "plt.show()"
   ]
  },
  {
   "cell_type": "markdown",
   "metadata": {
    "id": "x2BDwaUigDgC"
   },
   "source": [
    "## 4. Make a Prediction\n",
    "\n",
    "---\n",
    "\n"
   ]
  },
  {
   "cell_type": "markdown",
   "metadata": {
    "id": "vx34e_AWgLeE"
   },
   "source": [
    "Once our model is trained, we can use it to make predictions. To do this, we first use our test set to predict the classes."
   ]
  },
  {
   "cell_type": "code",
   "execution_count": 580,
   "metadata": {
    "id": "SylCmq61gTnM"
   },
   "outputs": [
    {
     "name": "stdout",
     "output_type": "stream",
     "text": [
      "313/313 [==============================] - 1s 3ms/step\n"
     ]
    }
   ],
   "source": [
    "# Make predictions with the trained model.\n",
    "predictions = model.predict(X_test)"
   ]
  },
  {
   "cell_type": "markdown",
   "metadata": {
    "id": "uMo9sEZpggPq"
   },
   "source": [
    "Finally, we can show a random test image with its corresponding prediction."
   ]
  },
  {
   "cell_type": "code",
   "execution_count": 581,
   "metadata": {
    "colab": {
     "base_uri": "https://localhost:8080/",
     "height": 265
    },
    "id": "Gc6bx2stgfiY",
    "outputId": "91b62b84-eba4-49a8-b4be-09c5b4ce70ff"
   },
   "outputs": [
    {
     "data": {
      "image/png": "[encoded data removed]",
      "text/plain": [
       "<Figure size 640x480 with 1 Axes>"
      ]
     },
     "metadata": {},
     "output_type": "display_data"
    }
   ],
   "source": [
    "# Choose an index.\n",
    "index = 128\n",
    "\n",
    "# Show an image from the test set.\n",
    "plt.imshow(test_images[index])\n",
    "plt.show()"
   ]
  },
  {
   "cell_type": "code",
   "execution_count": 582,
   "metadata": {
    "colab": {
     "base_uri": "https://localhost:8080/"
    },
    "id": "5bmSdfcFgunA",
    "outputId": "5c031a37-d8fa-4ea7-b173-466d23e25947"
   },
   "outputs": [
    {
     "name": "stdout",
     "output_type": "stream",
     "text": [
      "Prediction: 3\n"
     ]
    }
   ],
   "source": [
    "print(\"Prediction:\", np.argmax(predictions[index]))"
   ]
  },
  {
   "cell_type": "code",
   "execution_count": 583,
   "metadata": {},
   "outputs": [],
   "source": [
    "from sklearn.metrics import multilabel_confusion_matrix\n",
    "from sklearn.metrics import ConfusionMatrixDisplay\n",
    "\n",
    "top1_predictions=[np.argmax(preds) for preds in predictions]\n",
    "correct_test_labels=[np.argmax(label) for label in y_test]\n",
    "unique, counts = np.unique(correct_test_labels, return_counts=True)\n",
    "#Create confusion matrix and normalizes it over predicted (columns)\n",
    "#conf_matr = multilabel_confusion_matrix(y_test, top1_predictions)\n",
    "conf_matrix=np.zeros((10,10),dtype=np.float64)\n",
    "for i,y_i in enumerate(correct_test_labels):\n",
    "    conf_matrix[y_i,top1_predictions[i]]+=1\n",
    "\n",
    "for i in range(10):\n",
    "    conf_matrix[i]=conf_matrix[i]/float(counts[i])*100"
   ]
  },
  {
   "cell_type": "code",
   "execution_count": 584,
   "metadata": {},
   "outputs": [],
   "source": [
    "import pandas as pd\n",
    "conf_matrix\n",
    "df = pd.DataFrame(conf_matrix, columns = [i for i in range(10)], index=[i for i in range(10)])\n",
    "\n",
    "def highlight_cells(s):\n",
    "    index_max=s.idxmax()\n",
    "    s2=s.to_numpy()\n",
    "    #[0:index_max]+s[index_max+1:]\n",
    "    #print(s)\n",
    "    \n",
    "    s2=(np.concatenate((s2[0:index_max],[-1],s2[index_max+1:])))\n",
    "    #print(s2)\n",
    "    second_index_max = s2.argmax()\n",
    "    #print(second_index_max)\n",
    "    color = 'grey'\n",
    "    return ['background-color: %s' % \"#FF3131\"if i==index_max else 'background-color: %s' % \"coral\" if i==second_index_max else 'background-color: %s' % \"#e5e8ec\" for i in range(10)]\n",
    "df=df.style.apply(highlight_cells,axis=1).format(precision=2)\n",
    "\n"
   ]
  },
  {
   "cell_type": "code",
   "execution_count": 585,
   "metadata": {
    "scrolled": true
   },
   "outputs": [
    {
     "data": {
      "text/html": [
       "<style type=\"text/css\">\n",
       "#T_8b985_row0_col0, #T_8b985_row1_col1, #T_8b985_row2_col2, #T_8b985_row3_col3, #T_8b985_row4_col4, #T_8b985_row5_col5, #T_8b985_row6_col6, #T_8b985_row7_col7, #T_8b985_row8_col5, #T_8b985_row9_col9 {\n",
       "  background-color: #FF3131;\n",
       "}\n",
       "#T_8b985_row0_col1, #T_8b985_row0_col2, #T_8b985_row0_col3, #T_8b985_row0_col4, #T_8b985_row0_col6, #T_8b985_row0_col7, #T_8b985_row0_col8, #T_8b985_row0_col9, #T_8b985_row1_col0, #T_8b985_row1_col3, #T_8b985_row1_col4, #T_8b985_row1_col5, #T_8b985_row1_col6, #T_8b985_row1_col7, #T_8b985_row1_col8, #T_8b985_row1_col9, #T_8b985_row2_col0, #T_8b985_row2_col1, #T_8b985_row2_col3, #T_8b985_row2_col4, #T_8b985_row2_col5, #T_8b985_row2_col6, #T_8b985_row2_col8, #T_8b985_row2_col9, #T_8b985_row3_col0, #T_8b985_row3_col1, #T_8b985_row3_col4, #T_8b985_row3_col5, #T_8b985_row3_col6, #T_8b985_row3_col7, #T_8b985_row3_col8, #T_8b985_row3_col9, #T_8b985_row4_col0, #T_8b985_row4_col1, #T_8b985_row4_col2, #T_8b985_row4_col3, #T_8b985_row4_col5, #T_8b985_row4_col6, #T_8b985_row4_col7, #T_8b985_row4_col8, #T_8b985_row5_col0, #T_8b985_row5_col1, #T_8b985_row5_col2, #T_8b985_row5_col4, #T_8b985_row5_col6, #T_8b985_row5_col7, #T_8b985_row5_col8, #T_8b985_row5_col9, #T_8b985_row6_col0, #T_8b985_row6_col1, #T_8b985_row6_col2, #T_8b985_row6_col3, #T_8b985_row6_col5, #T_8b985_row6_col7, #T_8b985_row6_col8, #T_8b985_row6_col9, #T_8b985_row7_col0, #T_8b985_row7_col1, #T_8b985_row7_col3, #T_8b985_row7_col4, #T_8b985_row7_col5, #T_8b985_row7_col6, #T_8b985_row7_col8, #T_8b985_row7_col9, #T_8b985_row8_col0, #T_8b985_row8_col1, #T_8b985_row8_col2, #T_8b985_row8_col4, #T_8b985_row8_col6, #T_8b985_row8_col7, #T_8b985_row8_col8, #T_8b985_row8_col9, #T_8b985_row9_col0, #T_8b985_row9_col1, #T_8b985_row9_col2, #T_8b985_row9_col4, #T_8b985_row9_col5, #T_8b985_row9_col6, #T_8b985_row9_col7, #T_8b985_row9_col8 {\n",
       "  background-color: #e5e8ec;\n",
       "}\n",
       "#T_8b985_row0_col5, #T_8b985_row1_col2, #T_8b985_row2_col7, #T_8b985_row3_col2, #T_8b985_row4_col9, #T_8b985_row5_col3, #T_8b985_row6_col4, #T_8b985_row7_col2, #T_8b985_row8_col3, #T_8b985_row9_col3 {\n",
       "  background-color: coral;\n",
       "}\n",
       "</style>\n",
       "<table id=\"T_8b985\">\n",
       "  <thead>\n",
       "    <tr>\n",
       "      <th class=\"blank level0\" >&nbsp;</th>\n",
       "      <th id=\"T_8b985_level0_col0\" class=\"col_heading level0 col0\" >0</th>\n",
       "      <th id=\"T_8b985_level0_col1\" class=\"col_heading level0 col1\" >1</th>\n",
       "      <th id=\"T_8b985_level0_col2\" class=\"col_heading level0 col2\" >2</th>\n",
       "      <th id=\"T_8b985_level0_col3\" class=\"col_heading level0 col3\" >3</th>\n",
       "      <th id=\"T_8b985_level0_col4\" class=\"col_heading level0 col4\" >4</th>\n",
       "      <th id=\"T_8b985_level0_col5\" class=\"col_heading level0 col5\" >5</th>\n",
       "      <th id=\"T_8b985_level0_col6\" class=\"col_heading level0 col6\" >6</th>\n",
       "      <th id=\"T_8b985_level0_col7\" class=\"col_heading level0 col7\" >7</th>\n",
       "      <th id=\"T_8b985_level0_col8\" class=\"col_heading level0 col8\" >8</th>\n",
       "      <th id=\"T_8b985_level0_col9\" class=\"col_heading level0 col9\" >9</th>\n",
       "    </tr>\n",
       "  </thead>\n",
       "  <tbody>\n",
       "    <tr>\n",
       "      <th id=\"T_8b985_level0_row0\" class=\"row_heading level0 row0\" >0</th>\n",
       "      <td id=\"T_8b985_row0_col0\" class=\"data row0 col0\" >97.45</td>\n",
       "      <td id=\"T_8b985_row0_col1\" class=\"data row0 col1\" >0.00</td>\n",
       "      <td id=\"T_8b985_row0_col2\" class=\"data row0 col2\" >0.20</td>\n",
       "      <td id=\"T_8b985_row0_col3\" class=\"data row0 col3\" >0.51</td>\n",
       "      <td id=\"T_8b985_row0_col4\" class=\"data row0 col4\" >0.10</td>\n",
       "      <td id=\"T_8b985_row0_col5\" class=\"data row0 col5\" >1.12</td>\n",
       "      <td id=\"T_8b985_row0_col6\" class=\"data row0 col6\" >0.41</td>\n",
       "      <td id=\"T_8b985_row0_col7\" class=\"data row0 col7\" >0.10</td>\n",
       "      <td id=\"T_8b985_row0_col8\" class=\"data row0 col8\" >0.00</td>\n",
       "      <td id=\"T_8b985_row0_col9\" class=\"data row0 col9\" >0.10</td>\n",
       "    </tr>\n",
       "    <tr>\n",
       "      <th id=\"T_8b985_level0_row1\" class=\"row_heading level0 row1\" >1</th>\n",
       "      <td id=\"T_8b985_row1_col0\" class=\"data row1 col0\" >0.00</td>\n",
       "      <td id=\"T_8b985_row1_col1\" class=\"data row1 col1\" >98.94</td>\n",
       "      <td id=\"T_8b985_row1_col2\" class=\"data row1 col2\" >0.44</td>\n",
       "      <td id=\"T_8b985_row1_col3\" class=\"data row1 col3\" >0.26</td>\n",
       "      <td id=\"T_8b985_row1_col4\" class=\"data row1 col4\" >0.00</td>\n",
       "      <td id=\"T_8b985_row1_col5\" class=\"data row1 col5\" >0.00</td>\n",
       "      <td id=\"T_8b985_row1_col6\" class=\"data row1 col6\" >0.26</td>\n",
       "      <td id=\"T_8b985_row1_col7\" class=\"data row1 col7\" >0.00</td>\n",
       "      <td id=\"T_8b985_row1_col8\" class=\"data row1 col8\" >0.00</td>\n",
       "      <td id=\"T_8b985_row1_col9\" class=\"data row1 col9\" >0.09</td>\n",
       "    </tr>\n",
       "    <tr>\n",
       "      <th id=\"T_8b985_level0_row2\" class=\"row_heading level0 row2\" >2</th>\n",
       "      <td id=\"T_8b985_row2_col0\" class=\"data row2 col0\" >0.68</td>\n",
       "      <td id=\"T_8b985_row2_col1\" class=\"data row2 col1\" >0.00</td>\n",
       "      <td id=\"T_8b985_row2_col2\" class=\"data row2 col2\" >96.22</td>\n",
       "      <td id=\"T_8b985_row2_col3\" class=\"data row2 col3\" >0.48</td>\n",
       "      <td id=\"T_8b985_row2_col4\" class=\"data row2 col4\" >0.39</td>\n",
       "      <td id=\"T_8b985_row2_col5\" class=\"data row2 col5\" >0.48</td>\n",
       "      <td id=\"T_8b985_row2_col6\" class=\"data row2 col6\" >0.58</td>\n",
       "      <td id=\"T_8b985_row2_col7\" class=\"data row2 col7\" >1.07</td>\n",
       "      <td id=\"T_8b985_row2_col8\" class=\"data row2 col8\" >0.00</td>\n",
       "      <td id=\"T_8b985_row2_col9\" class=\"data row2 col9\" >0.10</td>\n",
       "    </tr>\n",
       "    <tr>\n",
       "      <th id=\"T_8b985_level0_row3\" class=\"row_heading level0 row3\" >3</th>\n",
       "      <td id=\"T_8b985_row3_col0\" class=\"data row3 col0\" >0.10</td>\n",
       "      <td id=\"T_8b985_row3_col1\" class=\"data row3 col1\" >0.00</td>\n",
       "      <td id=\"T_8b985_row3_col2\" class=\"data row3 col2\" >0.79</td>\n",
       "      <td id=\"T_8b985_row3_col3\" class=\"data row3 col3\" >97.33</td>\n",
       "      <td id=\"T_8b985_row3_col4\" class=\"data row3 col4\" >0.00</td>\n",
       "      <td id=\"T_8b985_row3_col5\" class=\"data row3 col5\" >0.59</td>\n",
       "      <td id=\"T_8b985_row3_col6\" class=\"data row3 col6\" >0.00</td>\n",
       "      <td id=\"T_8b985_row3_col7\" class=\"data row3 col7\" >0.50</td>\n",
       "      <td id=\"T_8b985_row3_col8\" class=\"data row3 col8\" >0.00</td>\n",
       "      <td id=\"T_8b985_row3_col9\" class=\"data row3 col9\" >0.69</td>\n",
       "    </tr>\n",
       "    <tr>\n",
       "      <th id=\"T_8b985_level0_row4\" class=\"row_heading level0 row4\" >4</th>\n",
       "      <td id=\"T_8b985_row4_col0\" class=\"data row4 col0\" >0.10</td>\n",
       "      <td id=\"T_8b985_row4_col1\" class=\"data row4 col1\" >0.20</td>\n",
       "      <td id=\"T_8b985_row4_col2\" class=\"data row4 col2\" >0.20</td>\n",
       "      <td id=\"T_8b985_row4_col3\" class=\"data row4 col3\" >0.00</td>\n",
       "      <td id=\"T_8b985_row4_col4\" class=\"data row4 col4\" >95.62</td>\n",
       "      <td id=\"T_8b985_row4_col5\" class=\"data row4 col5\" >0.00</td>\n",
       "      <td id=\"T_8b985_row4_col6\" class=\"data row4 col6\" >1.32</td>\n",
       "      <td id=\"T_8b985_row4_col7\" class=\"data row4 col7\" >0.31</td>\n",
       "      <td id=\"T_8b985_row4_col8\" class=\"data row4 col8\" >0.00</td>\n",
       "      <td id=\"T_8b985_row4_col9\" class=\"data row4 col9\" >2.24</td>\n",
       "    </tr>\n",
       "    <tr>\n",
       "      <th id=\"T_8b985_level0_row5\" class=\"row_heading level0 row5\" >5</th>\n",
       "      <td id=\"T_8b985_row5_col0\" class=\"data row5 col0\" >0.34</td>\n",
       "      <td id=\"T_8b985_row5_col1\" class=\"data row5 col1\" >0.11</td>\n",
       "      <td id=\"T_8b985_row5_col2\" class=\"data row5 col2\" >0.00</td>\n",
       "      <td id=\"T_8b985_row5_col3\" class=\"data row5 col3\" >3.03</td>\n",
       "      <td id=\"T_8b985_row5_col4\" class=\"data row5 col4\" >0.00</td>\n",
       "      <td id=\"T_8b985_row5_col5\" class=\"data row5 col5\" >95.85</td>\n",
       "      <td id=\"T_8b985_row5_col6\" class=\"data row5 col6\" >0.56</td>\n",
       "      <td id=\"T_8b985_row5_col7\" class=\"data row5 col7\" >0.11</td>\n",
       "      <td id=\"T_8b985_row5_col8\" class=\"data row5 col8\" >0.00</td>\n",
       "      <td id=\"T_8b985_row5_col9\" class=\"data row5 col9\" >0.00</td>\n",
       "    </tr>\n",
       "    <tr>\n",
       "      <th id=\"T_8b985_level0_row6\" class=\"row_heading level0 row6\" >6</th>\n",
       "      <td id=\"T_8b985_row6_col0\" class=\"data row6 col0\" >0.52</td>\n",
       "      <td id=\"T_8b985_row6_col1\" class=\"data row6 col1\" >0.31</td>\n",
       "      <td id=\"T_8b985_row6_col2\" class=\"data row6 col2\" >0.31</td>\n",
       "      <td id=\"T_8b985_row6_col3\" class=\"data row6 col3\" >0.00</td>\n",
       "      <td id=\"T_8b985_row6_col4\" class=\"data row6 col4\" >0.84</td>\n",
       "      <td id=\"T_8b985_row6_col5\" class=\"data row6 col5\" >0.63</td>\n",
       "      <td id=\"T_8b985_row6_col6\" class=\"data row6 col6\" >97.39</td>\n",
       "      <td id=\"T_8b985_row6_col7\" class=\"data row6 col7\" >0.00</td>\n",
       "      <td id=\"T_8b985_row6_col8\" class=\"data row6 col8\" >0.00</td>\n",
       "      <td id=\"T_8b985_row6_col9\" class=\"data row6 col9\" >0.00</td>\n",
       "    </tr>\n",
       "    <tr>\n",
       "      <th id=\"T_8b985_level0_row7\" class=\"row_heading level0 row7\" >7</th>\n",
       "      <td id=\"T_8b985_row7_col0\" class=\"data row7 col0\" >0.00</td>\n",
       "      <td id=\"T_8b985_row7_col1\" class=\"data row7 col1\" >0.19</td>\n",
       "      <td id=\"T_8b985_row7_col2\" class=\"data row7 col2\" >3.79</td>\n",
       "      <td id=\"T_8b985_row7_col3\" class=\"data row7 col3\" >0.97</td>\n",
       "      <td id=\"T_8b985_row7_col4\" class=\"data row7 col4\" >0.00</td>\n",
       "      <td id=\"T_8b985_row7_col5\" class=\"data row7 col5\" >0.00</td>\n",
       "      <td id=\"T_8b985_row7_col6\" class=\"data row7 col6\" >0.00</td>\n",
       "      <td id=\"T_8b985_row7_col7\" class=\"data row7 col7\" >92.12</td>\n",
       "      <td id=\"T_8b985_row7_col8\" class=\"data row7 col8\" >0.00</td>\n",
       "      <td id=\"T_8b985_row7_col9\" class=\"data row7 col9\" >2.92</td>\n",
       "    </tr>\n",
       "    <tr>\n",
       "      <th id=\"T_8b985_level0_row8\" class=\"row_heading level0 row8\" >8</th>\n",
       "      <td id=\"T_8b985_row8_col0\" class=\"data row8 col0\" >4.72</td>\n",
       "      <td id=\"T_8b985_row8_col1\" class=\"data row8 col1\" >2.05</td>\n",
       "      <td id=\"T_8b985_row8_col2\" class=\"data row8 col2\" >17.97</td>\n",
       "      <td id=\"T_8b985_row8_col3\" class=\"data row8 col3\" >23.10</td>\n",
       "      <td id=\"T_8b985_row8_col4\" class=\"data row8 col4\" >0.92</td>\n",
       "      <td id=\"T_8b985_row8_col5\" class=\"data row8 col5\" >29.47</td>\n",
       "      <td id=\"T_8b985_row8_col6\" class=\"data row8 col6\" >2.87</td>\n",
       "      <td id=\"T_8b985_row8_col7\" class=\"data row8 col7\" >1.03</td>\n",
       "      <td id=\"T_8b985_row8_col8\" class=\"data row8 col8\" >0.00</td>\n",
       "      <td id=\"T_8b985_row8_col9\" class=\"data row8 col9\" >17.86</td>\n",
       "    </tr>\n",
       "    <tr>\n",
       "      <th id=\"T_8b985_level0_row9\" class=\"row_heading level0 row9\" >9</th>\n",
       "      <td id=\"T_8b985_row9_col0\" class=\"data row9 col0\" >0.50</td>\n",
       "      <td id=\"T_8b985_row9_col1\" class=\"data row9 col1\" >0.50</td>\n",
       "      <td id=\"T_8b985_row9_col2\" class=\"data row9 col2\" >0.50</td>\n",
       "      <td id=\"T_8b985_row9_col3\" class=\"data row9 col3\" >1.09</td>\n",
       "      <td id=\"T_8b985_row9_col4\" class=\"data row9 col4\" >0.59</td>\n",
       "      <td id=\"T_8b985_row9_col5\" class=\"data row9 col5\" >1.09</td>\n",
       "      <td id=\"T_8b985_row9_col6\" class=\"data row9 col6\" >0.00</td>\n",
       "      <td id=\"T_8b985_row9_col7\" class=\"data row9 col7\" >0.30</td>\n",
       "      <td id=\"T_8b985_row9_col8\" class=\"data row9 col8\" >0.00</td>\n",
       "      <td id=\"T_8b985_row9_col9\" class=\"data row9 col9\" >95.44</td>\n",
       "    </tr>\n",
       "  </tbody>\n",
       "</table>\n"
      ],
      "text/plain": [
       "<pandas.io.formats.style.Styler at 0x1bb26162790>"
      ]
     },
     "metadata": {},
     "output_type": "display_data"
    }
   ],
   "source": [
    "display(df)"
   ]
  },
  {
   "cell_type": "code",
   "execution_count": 586,
   "metadata": {},
   "outputs": [
    {
     "data": {
      "text/plain": [
       "[7,\n",
       " 2,\n",
       " 1,\n",
       " 0,\n",
       " 4,\n",
       " 1,\n",
       " 4,\n",
       " 9,\n",
       " 5,\n",
       " 9,\n",
       " 0,\n",
       " 6,\n",
       " 9,\n",
       " 0,\n",
       " 1,\n",
       " 5,\n",
       " 9,\n",
       " 7,\n",
       " 3,\n",
       " 4,\n",
       " 9,\n",
       " 6,\n",
       " 6,\n",
       " 5,\n",
       " 4,\n",
       " 0,\n",
       " 7,\n",
       " 4,\n",
       " 0,\n",
       " 1,\n",
       " 3,\n",
       " 1,\n",
       " 3,\n",
       " 6,\n",
       " 7,\n",
       " 2,\n",
       " 7,\n",
       " 1,\n",
       " 2,\n",
       " 1,\n",
       " 1,\n",
       " 7,\n",
       " 4,\n",
       " 2,\n",
       " 3,\n",
       " 5,\n",
       " 3,\n",
       " 2,\n",
       " 4,\n",
       " 4,\n",
       " 6,\n",
       " 3,\n",
       " 5,\n",
       " 5,\n",
       " 6,\n",
       " 0,\n",
       " 4,\n",
       " 1,\n",
       " 9,\n",
       " 5,\n",
       " 7,\n",
       " 5,\n",
       " 9,\n",
       " 3,\n",
       " 7,\n",
       " 4,\n",
       " 6,\n",
       " 4,\n",
       " 3,\n",
       " 0,\n",
       " 7,\n",
       " 0,\n",
       " 2,\n",
       " 9,\n",
       " 1,\n",
       " 7,\n",
       " 3,\n",
       " 2,\n",
       " 9,\n",
       " 7,\n",
       " 7,\n",
       " 6,\n",
       " 2,\n",
       " 7,\n",
       " 5,\n",
       " 4,\n",
       " 7,\n",
       " 3,\n",
       " 6,\n",
       " 1,\n",
       " 3,\n",
       " 6,\n",
       " 9,\n",
       " 3,\n",
       " 1,\n",
       " 4,\n",
       " 1,\n",
       " 7,\n",
       " 6,\n",
       " 9,\n",
       " 6,\n",
       " 0,\n",
       " 5,\n",
       " 4,\n",
       " 9,\n",
       " 9,\n",
       " 2,\n",
       " 1,\n",
       " 9,\n",
       " 4,\n",
       " 3,\n",
       " 7,\n",
       " 3,\n",
       " 9,\n",
       " 7,\n",
       " 4,\n",
       " 4,\n",
       " 4,\n",
       " 9,\n",
       " 2,\n",
       " 5,\n",
       " 4,\n",
       " 7,\n",
       " 6,\n",
       " 7,\n",
       " 9,\n",
       " 0,\n",
       " 5,\n",
       " 3,\n",
       " 5,\n",
       " 6,\n",
       " 6,\n",
       " 5,\n",
       " 7,\n",
       " 3,\n",
       " 1,\n",
       " 0,\n",
       " 1,\n",
       " 6,\n",
       " 4,\n",
       " 6,\n",
       " 7,\n",
       " 2,\n",
       " 1,\n",
       " 7,\n",
       " 1,\n",
       " 9,\n",
       " 2,\n",
       " 0,\n",
       " 2,\n",
       " 9,\n",
       " 9,\n",
       " 5,\n",
       " 5,\n",
       " 1,\n",
       " 5,\n",
       " 6,\n",
       " 0,\n",
       " 3,\n",
       " 4,\n",
       " 4,\n",
       " 6,\n",
       " 5,\n",
       " 4,\n",
       " 6,\n",
       " 5,\n",
       " 4,\n",
       " 5,\n",
       " 1,\n",
       " 4,\n",
       " 4,\n",
       " 7,\n",
       " 2,\n",
       " 3,\n",
       " 2,\n",
       " 7,\n",
       " 1,\n",
       " 9,\n",
       " 1,\n",
       " 2,\n",
       " 1,\n",
       " 2,\n",
       " 5,\n",
       " 0,\n",
       " 3,\n",
       " 9,\n",
       " 2,\n",
       " 5,\n",
       " 0,\n",
       " 1,\n",
       " 1,\n",
       " 1,\n",
       " 0,\n",
       " 9,\n",
       " 0,\n",
       " 3,\n",
       " 1,\n",
       " 6,\n",
       " 4,\n",
       " 2,\n",
       " 3,\n",
       " 6,\n",
       " 1,\n",
       " 1,\n",
       " 1,\n",
       " 3,\n",
       " 9,\n",
       " 5,\n",
       " 2,\n",
       " 9,\n",
       " 4,\n",
       " 5,\n",
       " 9,\n",
       " 3,\n",
       " 9,\n",
       " 0,\n",
       " 3,\n",
       " 6,\n",
       " 5,\n",
       " 5,\n",
       " 7,\n",
       " 2,\n",
       " 2,\n",
       " 7,\n",
       " 1,\n",
       " 2,\n",
       " 3,\n",
       " 4,\n",
       " 1,\n",
       " 7,\n",
       " 3,\n",
       " 3,\n",
       " 5,\n",
       " 9,\n",
       " 7,\n",
       " 9,\n",
       " 2,\n",
       " 2,\n",
       " 4,\n",
       " 1,\n",
       " 5,\n",
       " 9,\n",
       " 0,\n",
       " 7,\n",
       " 2,\n",
       " 3,\n",
       " 0,\n",
       " 6,\n",
       " 4,\n",
       " 2,\n",
       " 4,\n",
       " 1,\n",
       " 9,\n",
       " 5,\n",
       " 7,\n",
       " 7,\n",
       " 2,\n",
       " 1,\n",
       " 2,\n",
       " 6,\n",
       " 5,\n",
       " 5,\n",
       " 7,\n",
       " 7,\n",
       " 9,\n",
       " 1,\n",
       " 0,\n",
       " 1,\n",
       " 5,\n",
       " 0,\n",
       " 3,\n",
       " 0,\n",
       " 1,\n",
       " 9,\n",
       " 9,\n",
       " 4,\n",
       " 1,\n",
       " 9,\n",
       " 2,\n",
       " 1,\n",
       " 2,\n",
       " 9,\n",
       " 7,\n",
       " 5,\n",
       " 9,\n",
       " 2,\n",
       " 6,\n",
       " 4,\n",
       " 1,\n",
       " 5,\n",
       " 4,\n",
       " 2,\n",
       " 9,\n",
       " 2,\n",
       " 0,\n",
       " 4,\n",
       " 0,\n",
       " 0,\n",
       " 2,\n",
       " 3,\n",
       " 4,\n",
       " 2,\n",
       " 1,\n",
       " 2,\n",
       " 4,\n",
       " 0,\n",
       " 2,\n",
       " 7,\n",
       " 4,\n",
       " 3,\n",
       " 3,\n",
       " 0,\n",
       " 0,\n",
       " 3,\n",
       " 1,\n",
       " 9,\n",
       " 6,\n",
       " 5,\n",
       " 2,\n",
       " 5,\n",
       " 1,\n",
       " 7,\n",
       " 9,\n",
       " 3,\n",
       " 0,\n",
       " 4,\n",
       " 6,\n",
       " 0,\n",
       " 7,\n",
       " 1,\n",
       " 1,\n",
       " 2,\n",
       " 1,\n",
       " 5,\n",
       " 3,\n",
       " 3,\n",
       " 9,\n",
       " 7,\n",
       " 5,\n",
       " 6,\n",
       " 3,\n",
       " 6,\n",
       " 1,\n",
       " 3,\n",
       " 5,\n",
       " 1,\n",
       " 0,\n",
       " 5,\n",
       " 1,\n",
       " 3,\n",
       " 1,\n",
       " 5,\n",
       " 5,\n",
       " 6,\n",
       " 1,\n",
       " 5,\n",
       " 5,\n",
       " 1,\n",
       " 7,\n",
       " 9,\n",
       " 4,\n",
       " 6,\n",
       " 7,\n",
       " 2,\n",
       " 5,\n",
       " 0,\n",
       " 6,\n",
       " 5,\n",
       " 6,\n",
       " 3,\n",
       " 7,\n",
       " 2,\n",
       " 0,\n",
       " 2,\n",
       " 2,\n",
       " 5,\n",
       " 4,\n",
       " 1,\n",
       " 1,\n",
       " 4,\n",
       " 0,\n",
       " 3,\n",
       " 3,\n",
       " 7,\n",
       " 6,\n",
       " 1,\n",
       " 6,\n",
       " 2,\n",
       " 1,\n",
       " 9,\n",
       " 2,\n",
       " 5,\n",
       " 6,\n",
       " 1,\n",
       " 9,\n",
       " 5,\n",
       " 2,\n",
       " 5,\n",
       " 4,\n",
       " 4,\n",
       " 2,\n",
       " 3,\n",
       " 3,\n",
       " 9,\n",
       " 2,\n",
       " 4,\n",
       " 5,\n",
       " 0,\n",
       " 3,\n",
       " 1,\n",
       " 7,\n",
       " 7,\n",
       " 3,\n",
       " 7,\n",
       " 9,\n",
       " 7,\n",
       " 1,\n",
       " 9,\n",
       " 2,\n",
       " 1,\n",
       " 4,\n",
       " 2,\n",
       " 9,\n",
       " 2,\n",
       " 0,\n",
       " 4,\n",
       " 9,\n",
       " 1,\n",
       " 4,\n",
       " 9,\n",
       " 1,\n",
       " 2,\n",
       " 4,\n",
       " 5,\n",
       " 9,\n",
       " 7,\n",
       " 9,\n",
       " 3,\n",
       " 7,\n",
       " 6,\n",
       " 0,\n",
       " 0,\n",
       " 3,\n",
       " 0,\n",
       " 2,\n",
       " 0,\n",
       " 6,\n",
       " 4,\n",
       " 9,\n",
       " 5,\n",
       " 3,\n",
       " 3,\n",
       " 2,\n",
       " 3,\n",
       " 9,\n",
       " 1,\n",
       " 2,\n",
       " 6,\n",
       " 9,\n",
       " 0,\n",
       " 5,\n",
       " 6,\n",
       " 6,\n",
       " 6,\n",
       " 3,\n",
       " 9,\n",
       " 5,\n",
       " 2,\n",
       " 7,\n",
       " 5,\n",
       " 3,\n",
       " 9,\n",
       " 6,\n",
       " 1,\n",
       " 9,\n",
       " 4,\n",
       " 1,\n",
       " 2,\n",
       " 5,\n",
       " 9,\n",
       " 1,\n",
       " 9,\n",
       " 7,\n",
       " 5,\n",
       " 4,\n",
       " 0,\n",
       " 9,\n",
       " 9,\n",
       " 9,\n",
       " 1,\n",
       " 0,\n",
       " 5,\n",
       " 2,\n",
       " 3,\n",
       " 7,\n",
       " 6,\n",
       " 9,\n",
       " 9,\n",
       " 0,\n",
       " 6,\n",
       " 3,\n",
       " 9,\n",
       " 3,\n",
       " 2,\n",
       " 1,\n",
       " 3,\n",
       " 1,\n",
       " 3,\n",
       " 6,\n",
       " 5,\n",
       " 7,\n",
       " 1,\n",
       " 2,\n",
       " 2,\n",
       " 6,\n",
       " 3,\n",
       " 2,\n",
       " 6,\n",
       " 5,\n",
       " 4,\n",
       " 1,\n",
       " 9,\n",
       " 7,\n",
       " 1,\n",
       " 3,\n",
       " 0,\n",
       " 3,\n",
       " 2,\n",
       " 2,\n",
       " 1,\n",
       " 9,\n",
       " 3,\n",
       " 4,\n",
       " 4,\n",
       " 6,\n",
       " 4,\n",
       " 2,\n",
       " 1,\n",
       " 6,\n",
       " 2,\n",
       " 5,\n",
       " 4,\n",
       " 2,\n",
       " 2,\n",
       " 4,\n",
       " 0,\n",
       " 0,\n",
       " 2,\n",
       " 3,\n",
       " 2,\n",
       " 7,\n",
       " 3,\n",
       " 0,\n",
       " 2,\n",
       " 7,\n",
       " 4,\n",
       " 4,\n",
       " 7,\n",
       " 9,\n",
       " 6,\n",
       " 9,\n",
       " 0,\n",
       " 9,\n",
       " 9,\n",
       " 0,\n",
       " 4,\n",
       " 6,\n",
       " 0,\n",
       " 6,\n",
       " 3,\n",
       " 5,\n",
       " 4,\n",
       " 9,\n",
       " 3,\n",
       " 3,\n",
       " 9,\n",
       " 3,\n",
       " 3,\n",
       " 3,\n",
       " 7,\n",
       " 2,\n",
       " 0,\n",
       " 2,\n",
       " 3,\n",
       " 1,\n",
       " 7,\n",
       " 0,\n",
       " 6,\n",
       " 5,\n",
       " 4,\n",
       " 3,\n",
       " 3,\n",
       " 0,\n",
       " 9,\n",
       " 6,\n",
       " 3,\n",
       " 9,\n",
       " 5,\n",
       " 9,\n",
       " 9,\n",
       " 6,\n",
       " 2,\n",
       " 6,\n",
       " 9,\n",
       " 5,\n",
       " 7,\n",
       " 3,\n",
       " 6,\n",
       " 0,\n",
       " 2,\n",
       " 4,\n",
       " 0,\n",
       " 2,\n",
       " 2,\n",
       " 3,\n",
       " 1,\n",
       " 9,\n",
       " 7,\n",
       " 5,\n",
       " 2,\n",
       " 0,\n",
       " 9,\n",
       " 4,\n",
       " 6,\n",
       " 2,\n",
       " 6,\n",
       " 7,\n",
       " 9,\n",
       " 3,\n",
       " 2,\n",
       " 9,\n",
       " 2,\n",
       " 2,\n",
       " 2,\n",
       " 9,\n",
       " 2,\n",
       " 7,\n",
       " 3,\n",
       " 5,\n",
       " 9,\n",
       " 1,\n",
       " 5,\n",
       " 5,\n",
       " 2,\n",
       " 0,\n",
       " 5,\n",
       " 6,\n",
       " 1,\n",
       " 3,\n",
       " 7,\n",
       " 6,\n",
       " 7,\n",
       " 1,\n",
       " 2,\n",
       " 5,\n",
       " 3,\n",
       " 0,\n",
       " 3,\n",
       " 7,\n",
       " 7,\n",
       " 4,\n",
       " 0,\n",
       " 9,\n",
       " 1,\n",
       " 5,\n",
       " 6,\n",
       " 7,\n",
       " 7,\n",
       " 4,\n",
       " 3,\n",
       " 4,\n",
       " 9,\n",
       " 1,\n",
       " 9,\n",
       " 5,\n",
       " 1,\n",
       " 7,\n",
       " 3,\n",
       " 9,\n",
       " 7,\n",
       " 6,\n",
       " 9,\n",
       " 1,\n",
       " 3,\n",
       " 2,\n",
       " 5,\n",
       " 3,\n",
       " 3,\n",
       " 6,\n",
       " 9,\n",
       " 2,\n",
       " 3,\n",
       " 5,\n",
       " 9,\n",
       " 5,\n",
       " 1,\n",
       " 1,\n",
       " 4,\n",
       " 4,\n",
       " 3,\n",
       " 1,\n",
       " 0,\n",
       " 7,\n",
       " 7,\n",
       " 0,\n",
       " 7,\n",
       " 9,\n",
       " 4,\n",
       " 4,\n",
       " 3,\n",
       " 5,\n",
       " 5,\n",
       " 4,\n",
       " 0,\n",
       " 5,\n",
       " 2,\n",
       " 1,\n",
       " 5,\n",
       " 2,\n",
       " 4,\n",
       " 5,\n",
       " 0,\n",
       " 4,\n",
       " 0,\n",
       " 6,\n",
       " 1,\n",
       " 9,\n",
       " 3,\n",
       " 2,\n",
       " 6,\n",
       " 7,\n",
       " 2,\n",
       " 6,\n",
       " 9,\n",
       " 3,\n",
       " 1,\n",
       " 4,\n",
       " 6,\n",
       " 2,\n",
       " 5,\n",
       " 9,\n",
       " 2,\n",
       " 0,\n",
       " 6,\n",
       " 2,\n",
       " 1,\n",
       " 7,\n",
       " 3,\n",
       " 4,\n",
       " 1,\n",
       " 0,\n",
       " 5,\n",
       " 4,\n",
       " 3,\n",
       " 1,\n",
       " 1,\n",
       " 7,\n",
       " 4,\n",
       " 9,\n",
       " 9,\n",
       " 4,\n",
       " 0,\n",
       " 4,\n",
       " 0,\n",
       " 2,\n",
       " 4,\n",
       " 5,\n",
       " 1,\n",
       " 1,\n",
       " 6,\n",
       " 4,\n",
       " 7,\n",
       " 1,\n",
       " 9,\n",
       " 4,\n",
       " 2,\n",
       " 4,\n",
       " 1,\n",
       " 5,\n",
       " 5,\n",
       " 3,\n",
       " 3,\n",
       " 3,\n",
       " 1,\n",
       " 4,\n",
       " 5,\n",
       " 6,\n",
       " 3,\n",
       " 9,\n",
       " 4,\n",
       " 1,\n",
       " 5,\n",
       " 3,\n",
       " 2,\n",
       " 0,\n",
       " 3,\n",
       " 2,\n",
       " 5,\n",
       " 1,\n",
       " 2,\n",
       " 5,\n",
       " 3,\n",
       " 4,\n",
       " 4,\n",
       " 0,\n",
       " 5,\n",
       " 2,\n",
       " 3,\n",
       " 3,\n",
       " 1,\n",
       " 2,\n",
       " 3,\n",
       " 5,\n",
       " 9,\n",
       " 6,\n",
       " 3,\n",
       " 2,\n",
       " 6,\n",
       " 1,\n",
       " 3,\n",
       " 6,\n",
       " 0,\n",
       " 7,\n",
       " 2,\n",
       " 1,\n",
       " 7,\n",
       " 1,\n",
       " 4,\n",
       " 2,\n",
       " 4,\n",
       " 2,\n",
       " 1,\n",
       " 7,\n",
       " 9,\n",
       " 6,\n",
       " 1,\n",
       " 1,\n",
       " 2,\n",
       " 4,\n",
       " 3,\n",
       " 1,\n",
       " 7,\n",
       " 7,\n",
       " 4,\n",
       " 2,\n",
       " 0,\n",
       " 9,\n",
       " 3,\n",
       " 1,\n",
       " 3,\n",
       " 1,\n",
       " 0,\n",
       " 7,\n",
       " 7,\n",
       " 0,\n",
       " 3,\n",
       " 5,\n",
       " 5,\n",
       " 2,\n",
       " 7,\n",
       " 6,\n",
       " 6,\n",
       " 9,\n",
       " 2,\n",
       " 5,\n",
       " 3,\n",
       " 5,\n",
       " 2,\n",
       " 2,\n",
       " 5,\n",
       " 6,\n",
       " 0,\n",
       " 9,\n",
       " 2,\n",
       " 9,\n",
       " 2,\n",
       " 2,\n",
       " 2,\n",
       " 2,\n",
       " 5,\n",
       " 7,\n",
       " 4,\n",
       " 9,\n",
       " 3,\n",
       " 0,\n",
       " 6,\n",
       " 6,\n",
       " 3,\n",
       " 2,\n",
       " 1,\n",
       " 3,\n",
       " 2,\n",
       " 2,\n",
       " 9,\n",
       " 3,\n",
       " 0,\n",
       " 0,\n",
       " 5,\n",
       " 2,\n",
       " 5,\n",
       " 1,\n",
       " 4,\n",
       " 9,\n",
       " 6,\n",
       " 0,\n",
       " 2,\n",
       " 9,\n",
       " 1,\n",
       " 4,\n",
       " 7,\n",
       " 4,\n",
       " 7,\n",
       " 3,\n",
       " 9,\n",
       " 5,\n",
       " 3,\n",
       " 4,\n",
       " 7,\n",
       " 1,\n",
       " 2,\n",
       " 1,\n",
       " 2,\n",
       " 2,\n",
       " 3,\n",
       " 2,\n",
       " 3,\n",
       " 2,\n",
       " 3,\n",
       " 9,\n",
       " 1,\n",
       " 7,\n",
       " 4,\n",
       " 0,\n",
       " 3,\n",
       " 5,\n",
       " 5,\n",
       " 5,\n",
       " 6,\n",
       " 5,\n",
       " 2,\n",
       " 6,\n",
       " 7,\n",
       " 6,\n",
       " 6,\n",
       " 3,\n",
       " 2,\n",
       " 7,\n",
       " 9,\n",
       " 1,\n",
       " 1,\n",
       " 2,\n",
       " 5,\n",
       " 6,\n",
       " 4,\n",
       " 9,\n",
       " 5,\n",
       " 2,\n",
       " 3,\n",
       " 3,\n",
       " 4,\n",
       " 7,\n",
       " 5,\n",
       " 9,\n",
       " 1,\n",
       " 1,\n",
       " 0,\n",
       " 9,\n",
       " 1,\n",
       " 4,\n",
       " 4,\n",
       " 5,\n",
       " 4,\n",
       " 0,\n",
       " 6,\n",
       " 2,\n",
       " 2,\n",
       " 3,\n",
       " 1,\n",
       " 5,\n",
       " 1,\n",
       " 2,\n",
       " 0,\n",
       " 3,\n",
       " 5,\n",
       " 1,\n",
       " 2,\n",
       " 6,\n",
       " 7,\n",
       " 1,\n",
       " 6,\n",
       " 2,\n",
       " 3,\n",
       " 9,\n",
       " 0,\n",
       " 1,\n",
       " 2,\n",
       " 2,\n",
       " 0,\n",
       " 9,\n",
       " 9,\n",
       " ...]"
      ]
     },
     "execution_count": 586,
     "metadata": {},
     "output_type": "execute_result"
    }
   ],
   "source": [
    "top1_predictions"
   ]
  },
  {
   "cell_type": "code",
   "execution_count": 587,
   "metadata": {},
   "outputs": [
    {
     "data": {
      "text/plain": [
       "(10000, 10)"
      ]
     },
     "execution_count": 587,
     "metadata": {},
     "output_type": "execute_result"
    }
   ],
   "source": [
    "type(y_test)\n",
    "y_test.shape"
   ]
  },
  {
   "cell_type": "code",
   "execution_count": 595,
   "metadata": {},
   "outputs": [
    {
     "ename": "InvalidArgumentError",
     "evalue": "{{function_node __wrapped__SaveV2_dtypes_34_device_/job:localhost/replica:0/task:0/device:CPU:0}} Failed to create a directory: weights\\ckptEpoch:2000-1_temp; Invalid argument [Op:SaveV2]",
     "output_type": "error",
     "traceback": [
      "\u001b[1;31m---------------------------------------------------------------------------\u001b[0m",
      "\u001b[1;31mInvalidArgumentError\u001b[0m                      Traceback (most recent call last)",
      "Cell \u001b[1;32mIn[595], line 5\u001b[0m\n\u001b[0;32m      3\u001b[0m checkpoint_prefix \u001b[38;5;241m=\u001b[39m os\u001b[38;5;241m.\u001b[39mpath\u001b[38;5;241m.\u001b[39mjoin(checkpoint_dir, \u001b[38;5;124m\"\u001b[39m\u001b[38;5;124mckpt\u001b[39m\u001b[38;5;124m\"\u001b[39m)\n\u001b[0;32m      4\u001b[0m checkpoint \u001b[38;5;241m=\u001b[39m tf\u001b[38;5;241m.\u001b[39mtrain\u001b[38;5;241m.\u001b[39mCheckpoint(model\u001b[38;5;241m=\u001b[39mmodel)\n\u001b[1;32m----> 5\u001b[0m checkpoint\u001b[38;5;241m.\u001b[39msave(checkpoint_prefix\u001b[38;5;241m+\u001b[39m\u001b[38;5;124mf\u001b[39m\u001b[38;5;124m\"\u001b[39m\u001b[38;5;124mEpoch:\u001b[39m\u001b[38;5;132;01m{\u001b[39;00m\u001b[38;5;241m2000\u001b[39m\u001b[38;5;132;01m}\u001b[39;00m\u001b[38;5;124m\"\u001b[39m)\n",
      "File \u001b[1;32mD:\\PROGRAMMI\\anaconda\\Lib\\site-packages\\tensorflow\\python\\checkpoint\\checkpoint.py:2477\u001b[0m, in \u001b[0;36mCheckpoint.save\u001b[1;34m(self, file_prefix, options)\u001b[0m\n\u001b[0;32m   2474\u001b[0m \u001b[38;5;28;01melse\u001b[39;00m:\n\u001b[0;32m   2475\u001b[0m   checkpoint_number \u001b[38;5;241m=\u001b[39m assign_op\u001b[38;5;241m.\u001b[39mnumpy()\n\u001b[1;32m-> 2477\u001b[0m \u001b[38;5;28;01mreturn\u001b[39;00m \u001b[38;5;28mself\u001b[39m\u001b[38;5;241m.\u001b[39m_write(\n\u001b[0;32m   2478\u001b[0m     \u001b[38;5;124m\"\u001b[39m\u001b[38;5;132;01m%s\u001b[39;00m\u001b[38;5;124m-\u001b[39m\u001b[38;5;132;01m%d\u001b[39;00m\u001b[38;5;124m\"\u001b[39m \u001b[38;5;241m%\u001b[39m (file_prefix, checkpoint_number),\n\u001b[0;32m   2479\u001b[0m     options\u001b[38;5;241m=\u001b[39moptions,\n\u001b[0;32m   2480\u001b[0m     write_done_callback\u001b[38;5;241m=\u001b[39m_update_checkpoint_state_internal)\n",
      "File \u001b[1;32mD:\\PROGRAMMI\\anaconda\\Lib\\site-packages\\tensorflow\\python\\checkpoint\\checkpoint.py:2324\u001b[0m, in \u001b[0;36mCheckpoint._write\u001b[1;34m(self, file_prefix, options, write_done_callback)\u001b[0m\n\u001b[0;32m   2322\u001b[0m start_time \u001b[38;5;241m=\u001b[39m time\u001b[38;5;241m.\u001b[39mtime()\n\u001b[0;32m   2323\u001b[0m options \u001b[38;5;241m=\u001b[39m options \u001b[38;5;129;01mor\u001b[39;00m checkpoint_options\u001b[38;5;241m.\u001b[39mCheckpointOptions()\n\u001b[1;32m-> 2324\u001b[0m output \u001b[38;5;241m=\u001b[39m \u001b[38;5;28mself\u001b[39m\u001b[38;5;241m.\u001b[39m_saver\u001b[38;5;241m.\u001b[39msave(file_prefix\u001b[38;5;241m=\u001b[39mfile_prefix, options\u001b[38;5;241m=\u001b[39moptions)\n\u001b[0;32m   2325\u001b[0m output \u001b[38;5;241m=\u001b[39m _convert_file_name_tensor_to_string(output)\n\u001b[0;32m   2327\u001b[0m \u001b[38;5;28;01mif\u001b[39;00m write_done_callback:\n",
      "File \u001b[1;32mD:\\PROGRAMMI\\anaconda\\Lib\\site-packages\\tensorflow\\python\\checkpoint\\checkpoint.py:1315\u001b[0m, in \u001b[0;36mTrackableSaver.save\u001b[1;34m(self, file_prefix, checkpoint_number, session, options)\u001b[0m\n\u001b[0;32m   1312\u001b[0m \u001b[38;5;28;01mif\u001b[39;00m \u001b[38;5;129;01mnot\u001b[39;00m tensor_util\u001b[38;5;241m.\u001b[39mis_tensor(file_prefix):\n\u001b[0;32m   1313\u001b[0m   file_io\u001b[38;5;241m.\u001b[39mrecursive_create_dir(os\u001b[38;5;241m.\u001b[39mpath\u001b[38;5;241m.\u001b[39mdirname(file_prefix))\n\u001b[1;32m-> 1315\u001b[0m save_path, new_feed_additions \u001b[38;5;241m=\u001b[39m \u001b[38;5;28mself\u001b[39m\u001b[38;5;241m.\u001b[39m_save_cached_when_graph_building(\n\u001b[0;32m   1316\u001b[0m     file_prefix_tensor, object_graph_tensor, options)\n\u001b[0;32m   1318\u001b[0m \u001b[38;5;28;01mif\u001b[39;00m new_feed_additions:\n\u001b[0;32m   1319\u001b[0m   feed_dict\u001b[38;5;241m.\u001b[39mupdate(new_feed_additions)\n",
      "File \u001b[1;32mD:\\PROGRAMMI\\anaconda\\Lib\\site-packages\\tensorflow\\python\\checkpoint\\checkpoint.py:1253\u001b[0m, in \u001b[0;36mTrackableSaver._save_cached_when_graph_building\u001b[1;34m(self, file_prefix, object_graph_tensor, options)\u001b[0m\n\u001b[0;32m   1245\u001b[0m \u001b[38;5;28;01mif\u001b[39;00m (\u001b[38;5;28mself\u001b[39m\u001b[38;5;241m.\u001b[39m_last_save_object_graph \u001b[38;5;241m!=\u001b[39m graph_proto\n\u001b[0;32m   1246\u001b[0m     \u001b[38;5;66;03m# When executing eagerly, we need to re-create SaveableObjects each\u001b[39;00m\n\u001b[0;32m   1247\u001b[0m     \u001b[38;5;66;03m# time save() is called so they pick up new Tensors passed to their\u001b[39;00m\n\u001b[0;32m   1248\u001b[0m     \u001b[38;5;66;03m# constructors. That means the Saver needs to be copied with a new\u001b[39;00m\n\u001b[0;32m   1249\u001b[0m     \u001b[38;5;66;03m# var_list.\u001b[39;00m\n\u001b[0;32m   1250\u001b[0m     \u001b[38;5;129;01mor\u001b[39;00m context\u001b[38;5;241m.\u001b[39mexecuting_eagerly() \u001b[38;5;129;01mor\u001b[39;00m ops\u001b[38;5;241m.\u001b[39minside_function()):\n\u001b[0;32m   1251\u001b[0m   saver \u001b[38;5;241m=\u001b[39m functional_saver\u001b[38;5;241m.\u001b[39mMultiDeviceSaver(serialized_tensors,\n\u001b[0;32m   1252\u001b[0m                                             registered_savers)\n\u001b[1;32m-> 1253\u001b[0m   save_op \u001b[38;5;241m=\u001b[39m saver\u001b[38;5;241m.\u001b[39msave(file_prefix, options\u001b[38;5;241m=\u001b[39moptions)\n\u001b[0;32m   1254\u001b[0m   \u001b[38;5;28;01mwith\u001b[39;00m ops\u001b[38;5;241m.\u001b[39mdevice(\u001b[38;5;124m\"\u001b[39m\u001b[38;5;124m/cpu:0\u001b[39m\u001b[38;5;124m\"\u001b[39m):\n\u001b[0;32m   1255\u001b[0m     \u001b[38;5;28;01mwith\u001b[39;00m ops\u001b[38;5;241m.\u001b[39mcontrol_dependencies([save_op]):\n",
      "File \u001b[1;32mD:\\PROGRAMMI\\anaconda\\Lib\\site-packages\\tensorflow\\python\\checkpoint\\functional_saver.py:407\u001b[0m, in \u001b[0;36mMultiDeviceSaver.save\u001b[1;34m(self, file_prefix, options)\u001b[0m\n\u001b[0;32m    405\u001b[0m   tf_function_save()\n\u001b[0;32m    406\u001b[0m \u001b[38;5;28;01melse\u001b[39;00m:\n\u001b[1;32m--> 407\u001b[0m   \u001b[38;5;28;01mreturn\u001b[39;00m save_fn()\n",
      "File \u001b[1;32mD:\\PROGRAMMI\\anaconda\\Lib\\site-packages\\tensorflow\\python\\checkpoint\\functional_saver.py:381\u001b[0m, in \u001b[0;36mMultiDeviceSaver.save.<locals>.save_fn\u001b[1;34m()\u001b[0m\n\u001b[0;32m    376\u001b[0m   saved_prefixes\u001b[38;5;241m.\u001b[39mappend(shard_prefix)\n\u001b[0;32m    377\u001b[0m   \u001b[38;5;28;01mwith\u001b[39;00m ops\u001b[38;5;241m.\u001b[39mdevice(device):\n\u001b[0;32m    378\u001b[0m     \u001b[38;5;66;03m# _SingleDeviceSaver will use the CPU device when necessary, but\u001b[39;00m\n\u001b[0;32m    379\u001b[0m     \u001b[38;5;66;03m# initial read operations should be placed on the SaveableObject's\u001b[39;00m\n\u001b[0;32m    380\u001b[0m     \u001b[38;5;66;03m# device.\u001b[39;00m\n\u001b[1;32m--> 381\u001b[0m     sharded_saves\u001b[38;5;241m.\u001b[39mappend(saver\u001b[38;5;241m.\u001b[39msave(shard_prefix, options))\n\u001b[0;32m    383\u001b[0m \u001b[38;5;28;01mwith\u001b[39;00m ops\u001b[38;5;241m.\u001b[39mcontrol_dependencies(sharded_saves):\n\u001b[0;32m    384\u001b[0m   \u001b[38;5;66;03m# Merge on the io_device if specified, otherwise co-locates the merge op\u001b[39;00m\n\u001b[0;32m    385\u001b[0m   \u001b[38;5;66;03m# with the last device used.\u001b[39;00m\n\u001b[0;32m    386\u001b[0m   merge_device \u001b[38;5;241m=\u001b[39m (\n\u001b[0;32m    387\u001b[0m       options\u001b[38;5;241m.\u001b[39mexperimental_io_device \u001b[38;5;129;01mor\u001b[39;00m\n\u001b[0;32m    388\u001b[0m       saveable_object_util\u001b[38;5;241m.\u001b[39mset_cpu0(last_device))\n",
      "File \u001b[1;32mD:\\PROGRAMMI\\anaconda\\Lib\\site-packages\\tensorflow\\python\\checkpoint\\functional_saver.py:84\u001b[0m, in \u001b[0;36m_SingleDeviceSaver.save\u001b[1;34m(self, file_prefix, options)\u001b[0m\n\u001b[0;32m     82\u001b[0m save_device \u001b[38;5;241m=\u001b[39m save_device \u001b[38;5;129;01mor\u001b[39;00m \u001b[38;5;124m\"\u001b[39m\u001b[38;5;124mcpu:0\u001b[39m\u001b[38;5;124m\"\u001b[39m\n\u001b[0;32m     83\u001b[0m \u001b[38;5;28;01mwith\u001b[39;00m ops\u001b[38;5;241m.\u001b[39mdevice(save_device):\n\u001b[1;32m---> 84\u001b[0m   \u001b[38;5;28;01mreturn\u001b[39;00m io_ops\u001b[38;5;241m.\u001b[39msave_v2(file_prefix, tensor_names, slice_specs, tensors)\n",
      "File \u001b[1;32mD:\\PROGRAMMI\\anaconda\\Lib\\site-packages\\tensorflow\\python\\ops\\gen_io_ops.py:1845\u001b[0m, in \u001b[0;36msave_v2\u001b[1;34m(prefix, tensor_names, shape_and_slices, tensors, name)\u001b[0m\n\u001b[0;32m   1843\u001b[0m   \u001b[38;5;28;01mpass\u001b[39;00m\n\u001b[0;32m   1844\u001b[0m \u001b[38;5;28;01mtry\u001b[39;00m:\n\u001b[1;32m-> 1845\u001b[0m   \u001b[38;5;28;01mreturn\u001b[39;00m save_v2_eager_fallback(\n\u001b[0;32m   1846\u001b[0m       prefix, tensor_names, shape_and_slices, tensors, name\u001b[38;5;241m=\u001b[39mname,\n\u001b[0;32m   1847\u001b[0m       ctx\u001b[38;5;241m=\u001b[39m_ctx)\n\u001b[0;32m   1848\u001b[0m \u001b[38;5;28;01mexcept\u001b[39;00m _core\u001b[38;5;241m.\u001b[39m_SymbolicException:\n\u001b[0;32m   1849\u001b[0m   \u001b[38;5;28;01mpass\u001b[39;00m  \u001b[38;5;66;03m# Add nodes to the TensorFlow graph.\u001b[39;00m\n",
      "File \u001b[1;32mD:\\PROGRAMMI\\anaconda\\Lib\\site-packages\\tensorflow\\python\\ops\\gen_io_ops.py:1866\u001b[0m, in \u001b[0;36msave_v2_eager_fallback\u001b[1;34m(prefix, tensor_names, shape_and_slices, tensors, name, ctx)\u001b[0m\n\u001b[0;32m   1864\u001b[0m _inputs_flat \u001b[38;5;241m=\u001b[39m [prefix, tensor_names, shape_and_slices] \u001b[38;5;241m+\u001b[39m \u001b[38;5;28mlist\u001b[39m(tensors)\n\u001b[0;32m   1865\u001b[0m _attrs \u001b[38;5;241m=\u001b[39m (\u001b[38;5;124m\"\u001b[39m\u001b[38;5;124mdtypes\u001b[39m\u001b[38;5;124m\"\u001b[39m, _attr_dtypes)\n\u001b[1;32m-> 1866\u001b[0m _result \u001b[38;5;241m=\u001b[39m _execute\u001b[38;5;241m.\u001b[39mexecute(\u001b[38;5;124mb\u001b[39m\u001b[38;5;124m\"\u001b[39m\u001b[38;5;124mSaveV2\u001b[39m\u001b[38;5;124m\"\u001b[39m, \u001b[38;5;241m0\u001b[39m, inputs\u001b[38;5;241m=\u001b[39m_inputs_flat, attrs\u001b[38;5;241m=\u001b[39m_attrs,\n\u001b[0;32m   1867\u001b[0m                            ctx\u001b[38;5;241m=\u001b[39mctx, name\u001b[38;5;241m=\u001b[39mname)\n\u001b[0;32m   1868\u001b[0m _result \u001b[38;5;241m=\u001b[39m \u001b[38;5;28;01mNone\u001b[39;00m\n\u001b[0;32m   1869\u001b[0m \u001b[38;5;28;01mreturn\u001b[39;00m _result\n",
      "File \u001b[1;32mD:\\PROGRAMMI\\anaconda\\Lib\\site-packages\\tensorflow\\python\\eager\\execute.py:60\u001b[0m, in \u001b[0;36mquick_execute\u001b[1;34m(op_name, num_outputs, inputs, attrs, ctx, name)\u001b[0m\n\u001b[0;32m     53\u001b[0m   \u001b[38;5;66;03m# Convert any objects of type core_types.Tensor to Tensor.\u001b[39;00m\n\u001b[0;32m     54\u001b[0m   inputs \u001b[38;5;241m=\u001b[39m [\n\u001b[0;32m     55\u001b[0m       tensor_conversion_registry\u001b[38;5;241m.\u001b[39mconvert(t)\n\u001b[0;32m     56\u001b[0m       \u001b[38;5;28;01mif\u001b[39;00m \u001b[38;5;28misinstance\u001b[39m(t, core_types\u001b[38;5;241m.\u001b[39mTensor)\n\u001b[0;32m     57\u001b[0m       \u001b[38;5;28;01melse\u001b[39;00m t\n\u001b[0;32m     58\u001b[0m       \u001b[38;5;28;01mfor\u001b[39;00m t \u001b[38;5;129;01min\u001b[39;00m inputs\n\u001b[0;32m     59\u001b[0m   ]\n\u001b[1;32m---> 60\u001b[0m   tensors \u001b[38;5;241m=\u001b[39m pywrap_tfe\u001b[38;5;241m.\u001b[39mTFE_Py_Execute(ctx\u001b[38;5;241m.\u001b[39m_handle, device_name, op_name,\n\u001b[0;32m     61\u001b[0m                                       inputs, attrs, num_outputs)\n\u001b[0;32m     62\u001b[0m \u001b[38;5;28;01mexcept\u001b[39;00m core\u001b[38;5;241m.\u001b[39m_NotOkStatusException \u001b[38;5;28;01mas\u001b[39;00m e:\n\u001b[0;32m     63\u001b[0m   \u001b[38;5;28;01mif\u001b[39;00m name \u001b[38;5;129;01mis\u001b[39;00m \u001b[38;5;129;01mnot\u001b[39;00m \u001b[38;5;28;01mNone\u001b[39;00m:\n",
      "\u001b[1;31mInvalidArgumentError\u001b[0m: {{function_node __wrapped__SaveV2_dtypes_34_device_/job:localhost/replica:0/task:0/device:CPU:0}} Failed to create a directory: weights\\ckptEpoch:2000-1_temp; Invalid argument [Op:SaveV2]"
     ]
    }
   ],
   "source": [
    "'''import os\n",
    "checkpoint_dir = 'weights'\n",
    "checkpoint_prefix = os.path.join(checkpoint_dir, \"ckpt\")\n",
    "checkpoint = tf.train.Checkpoint(model=model)\n",
    "checkpoint.save(checkpoint_prefix+f\"Epoch:{2000}\")'''"
   ]
  },
  {
   "cell_type": "code",
   "execution_count": 593,
   "metadata": {},
   "outputs": [
    {
     "name": "stdout",
     "output_type": "stream",
     "text": [
      "D:/SCUOLA/vault/Tesi\n"
     ]
    }
   ],
   "source": [
    "!pwd"
   ]
  },
  {
   "cell_type": "code",
   "execution_count": null,
   "metadata": {},
   "outputs": [],
   "source": []
  },
  {
   "cell_type": "code",
   "execution_count": null,
   "metadata": {},
   "outputs": [],
   "source": []
  },
  {
   "cell_type": "code",
   "execution_count": null,
   "metadata": {},
   "outputs": [],
   "source": []
  }
 ],
 "metadata": {
  "colab": {
   "authorship_tag": "ABX9TyPmzXHjccEkM4rtZ/PEIMoD",
   "name": "MNIST Digit Classification with a Convolutional Neural Network (CNN)",
   "provenance": []
  },
  "kernelspec": {
   "display_name": "Python 3 (ipykernel)",
   "language": "python",
   "name": "python3"
  },
  "language_info": {
   "codemirror_mode": {
    "name": "ipython",
    "version": 3
   },
   "file_extension": ".py",
   "mimetype": "text/x-python",
   "name": "python",
   "nbconvert_exporter": "python",
   "pygments_lexer": "ipython3",
   "version": "3.11.4"
  }
 },
 "nbformat": 4,
 "nbformat_minor": 1
}
