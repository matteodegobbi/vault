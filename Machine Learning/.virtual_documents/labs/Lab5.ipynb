


#put here your ``numero di matricola''
numero_di_matricola = 1 # COMPLETE


#import all packages needed
%matplotlib inline
import numpy as np
import matplotlib.pyplot as plt

from sklearn.cluster import KMeans, AgglomerativeClustering
from sklearn.datasets import make_blobs, make_circles





n_samples = 1500

X, y = make_blobs(n_samples=n_samples, cluster_std=[0.4, 0.4, 0.4], random_state =  numero_di_matricola)
plt.scatter(X[:,0], X[:,1])





y_pred = KMeans(n_clusters=3,init='random',n_init=1,
       random_state=numero_di_matricola).fit_predict(X)
plt.scatter(X[:,0],X[:,1], c=y_pred)





y_pred = KMeans(n_clusters=3,init=np.array([[2,2],[-8,-9],[0,0]]),n_init=1,
       random_state=numero_di_matricola).fit_predict(X)
plt.scatter(X[:,0],X[:,1], c=y_pred)





#try with a different random state
y_pred = KMeans(n_clusters=3,init='random',n_init=1,
       random_state=numero_di_matricola+10).fit_predict(X)
plt.scatter(X[:,0],X[:,1], c=y_pred)





y_pred = KMeans(n_clusters=3,init='random',n_init=10,
       random_state=numero_di_matricola+10).fit_predict(X)
plt.scatter(X[:,0],X[:,1], c=y_pred)





#Using k-means++ it works with only one iteration even with the bad seed
y_pred = KMeans(n_clusters=3,init='k-means++',n_init=1,
       random_state=numero_di_matricola+10).fit_predict(X)
plt.scatter(X[:,0],X[:,1], c=y_pred)








X, y = make_circles(n_samples=n_samples, factor=0.5, noise=0.05)
plt.scatter(X[:,0],X[:,1])





y_pred = KMeans(n_clusters=2,init='random',n_init=1,
       random_state=numero_di_matricola+10).fit_predict(X)
plt.scatter(X[:,0],X[:,1], c=y_pred)





y_pred = KMeans(n_clusters=2,init='k-means++',n_init=100,
       random_state=numero_di_matricola+10).fit_predict(X)
plt.scatter(X[:,0],X[:,1], c=y_pred)








y_pred = AgglomerativeClustering(n_clusters=2,linkage='single').fit_predict(X)
plt.scatter(X[:,0], X[:,1],c=y_pred)


y_pred = AgglomerativeClustering(n_clusters=2,linkage='complete').fit_predict(X)
plt.scatter(X[:,0], X[:,1],c=y_pred)


y_pred = AgglomerativeClustering(n_clusters=2,linkage='average').fit_predict(X)
plt.scatter(X[:,0], X[:,1],c=y_pred)





X, y = make_blobs(n_samples=n_samples, cluster_std=[0.4, 0.4, 0.4], random_state =  numero_di_matricola)
plt.scatter(X[:,0], X[:,1])





y_pred = AgglomerativeClustering(n_clusters=3,linkage='single').fit_predict(X)
plt.scatter(X[:,0], X[:,1],c=y_pred)


y_pred = AgglomerativeClustering(n_clusters=2,linkage='complete').fit_predict(X)
plt.scatter(X[:,0], X[:,1],c=y_pred)


y_pred = AgglomerativeClustering(n_clusters=2,linkage='average').fit_predict(X)
plt.scatter(X[:,0], X[:,1],c=y_pred)





X, y = make_blobs(n_samples=n_samples, cluster_std=[0.5, 1.5, 0.7], random_state =  numero_di_matricola)
plt.scatter(X[:,0], X[:,1])





y_pred = KMeans(n_clusters=3,init='random',n_init=1,
       random_state=numero_di_matricola+10).fit_predict(X)
plt.scatter(X[:,0],X[:,1], c=y_pred)


y_pred = KMeans(n_clusters=3,init='k-means++',n_init=1,
       random_state=numero_di_matricola+10).fit_predict(X)
plt.scatter(X[:,0],X[:,1], c=y_pred)





y_pred = AgglomerativeClustering(n_clusters=3,linkage='single').fit_predict(X)
plt.scatter(X[:,0], X[:,1],c=y_pred)


y_pred = AgglomerativeClustering(n_clusters=3,linkage='complete').fit_predict(X)
plt.scatter(X[:,0], X[:,1],c=y_pred)


y_pred = AgglomerativeClustering(n_clusters=3,linkage='average').fit_predict(X)
plt.scatter(X[:,0], X[:,1],c=y_pred)



